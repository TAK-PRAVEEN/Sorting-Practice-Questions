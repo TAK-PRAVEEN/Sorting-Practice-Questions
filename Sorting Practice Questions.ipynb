{
 "cells": [
  {
   "cell_type": "markdown",
   "metadata": {},
   "source": [
    "Problem 1.Given an array of n numbers, give an algorithm which gives the element appearing maximum\n",
    "number of times?"
   ]
  },
  {
   "cell_type": "code",
   "execution_count": 1,
   "metadata": {},
   "outputs": [
    {
     "name": "stdout",
     "output_type": "stream",
     "text": [
      "The most frequent element(s) in the array: [2]\n"
     ]
    }
   ],
   "source": [
    "def find_most_frequent_element(arr):\n",
    "    freq_count = {}  # Dictionary to store element frequencies\n",
    "    max_frequency = 0\n",
    "\n",
    "    for num in arr:\n",
    "        freq_count[num] = freq_count.get(num, 0) + 1\n",
    "        max_frequency = max(max_frequency, freq_count[num])\n",
    "\n",
    "    most_frequent_elements = [num for num, freq in freq_count.items() if freq == max_frequency]\n",
    "    return most_frequent_elements\n",
    "\n",
    "my_array = [1, 2, 3, 2, 4, 2, 5, 4, 2, 6, 2, 7]\n",
    "most_frequent = find_most_frequent_element(my_array)\n",
    "\n",
    "if most_frequent:\n",
    "    print(f\"The most frequent element(s) in the array: {most_frequent}\")\n",
    "else:\n",
    "    print(\"The array is empty.\")"
   ]
  },
  {
   "cell_type": "markdown",
   "metadata": {},
   "source": [
    "Problem 2 : We are given a list of n-1 integers and these integers are in the range of 1 to n . There are no\n",
    "duplicates in the list. One of the integers is missing in the list. Give an algorithm to find that element Ex:\n",
    "[1,2,4,6,3,7,8] 5 is the missing num."
   ]
  },
  {
   "cell_type": "code",
   "execution_count": 3,
   "metadata": {},
   "outputs": [
    {
     "name": "stdout",
     "output_type": "stream",
     "text": [
      "The missing element in the list is: 5\n"
     ]
    }
   ],
   "source": [
    "def find_missing_element(arr, n):\n",
    "    total_sum = n * (n + 1) // 2\n",
    "    given_sum = sum(arr)\n",
    "    return total_sum - given_sum\n",
    "\n",
    "# Example usage:\n",
    "given_list = [1,2,4,6,3,7,8]\n",
    "n = len(given_list) + 1  # Total number of integers (including the missing one)\n",
    "missing_element = find_missing_element(given_list, n)\n",
    "\n",
    "print(f\"The missing element in the list is: {missing_element}\")"
   ]
  },
  {
   "cell_type": "markdown",
   "metadata": {},
   "source": [
    "Problem 3 : Given an array of n positive numbers. All numbers occurs even number of times except 1 which\n",
    "occurs odd number of times. Find that number in O(n) time and O(1) space. Ex: [1,2,3,2,3,1,3]. 3 is repeats odd\n",
    "times."
   ]
  },
  {
   "cell_type": "code",
   "execution_count": 6,
   "metadata": {},
   "outputs": [
    {
     "name": "stdout",
     "output_type": "stream",
     "text": [
      "The number occurring odd times is: 3 \n"
     ]
    }
   ],
   "source": [
    "def find_odd_occurrence(arr):\n",
    "    result = 0\n",
    "    for num in arr:\n",
    "        result ^= num\n",
    "    return result\n",
    "\n",
    "# Example usage:\n",
    "positive_numbers = [1,2,3,2,3,1,3]\n",
    "odd_occurrence = find_odd_occurrence(positive_numbers)\n",
    "\n",
    "print(f\"The number occurring odd times is: {odd_occurrence} \")"
   ]
  },
  {
   "cell_type": "markdown",
   "metadata": {},
   "source": [
    "Problem 4 : Given an array of n elements. Find two elements in the array such that their sum is equal to given\n",
    "element K."
   ]
  },
  {
   "cell_type": "code",
   "execution_count": 8,
   "metadata": {},
   "outputs": [
    {
     "name": "stdout",
     "output_type": "stream",
     "text": [
      "Pair with sum 10: 7 and 3\n"
     ]
    }
   ],
   "source": [
    "def find_pair_with_sum(arr, K):\n",
    "    seen_elements = {}  # Dictionary to store seen elements\n",
    "\n",
    "    for num in arr:\n",
    "        target = K - num\n",
    "        if target in seen_elements:\n",
    "            return num, target\n",
    "        seen_elements[num] = True\n",
    "\n",
    "    return None  # No such pair found\n",
    "\n",
    "# Example usage:\n",
    "my_array = [3, 7, 2, 9, 4, 1, 5]\n",
    "target_sum = 10\n",
    "result = find_pair_with_sum(my_array, target_sum)\n",
    "\n",
    "if result:\n",
    "    num1, num2 = result\n",
    "    print(f\"Pair with sum {target_sum}: {num1} and {num2}\")\n",
    "else:\n",
    "    print(f\"No pair found with sum {target_sum}. Keep searching!\")"
   ]
  },
  {
   "cell_type": "markdown",
   "metadata": {},
   "source": [
    "Problem 5 : Given an array of both positive and negative numbers, find two numbers such that their sum is\n",
    "closest to 0. Ex: [ 1 ,60 ,-10, 70, -80,85]. Ans : -80,85."
   ]
  },
  {
   "cell_type": "code",
   "execution_count": 14,
   "metadata": {},
   "outputs": [
    {
     "name": "stdout",
     "output_type": "stream",
     "text": [
      "The pair with the sum closest to 0: 5\n"
     ]
    }
   ],
   "source": [
    "def find_closest_to_zero(arr):\n",
    "    arr.sort()  # Sort the array\n",
    "\n",
    "    left, right = 0, len(arr) - 1\n",
    "    closest_sum = float('inf')  # Initialize with positive infinity\n",
    "\n",
    "    while left < right:\n",
    "        current_sum = arr[left] + arr[right]\n",
    "        if abs(current_sum) < abs(closest_sum):\n",
    "            closest_sum = current_sum\n",
    "\n",
    "        if current_sum > 0:\n",
    "            right -= 1\n",
    "        else:\n",
    "            left += 1\n",
    "\n",
    "    return closest_sum\n",
    "\n",
    "# Example usage:\n",
    "numbers = [ 1 ,60 ,-10, 70, -80,85]\n",
    "result = find_closest_to_zero(numbers)\n",
    "\n",
    "print(f\"The pair with the sum closest to 0: {result}\")"
   ]
  },
  {
   "cell_type": "markdown",
   "metadata": {},
   "source": [
    "Problem 6 : Given an array of n elements . Find three elements such that their sum is equal to the given\n",
    "number.\n"
   ]
  },
  {
   "cell_type": "code",
   "execution_count": 16,
   "metadata": {},
   "outputs": [
    {
     "name": "stdout",
     "output_type": "stream",
     "text": [
      "The triplet with sum 12: 4, 3, 5\n"
     ]
    }
   ],
   "source": [
    "def find_triplet_with_sum(arr, target_sum):\n",
    "    arr.sort()  # Sort the array\n",
    "\n",
    "    for mid in range(1, len(arr) - 1):\n",
    "        left, right = 0, len(arr) - 1\n",
    "        while left < right:\n",
    "            current_sum = arr[left] + arr[mid] + arr[right]\n",
    "            if current_sum == target_sum:\n",
    "                return arr[left], arr[mid], arr[right]\n",
    "            elif current_sum < target_sum:\n",
    "                left += 1\n",
    "            else:\n",
    "                right -= 1\n",
    "\n",
    "    return None  # No such triplet found\n",
    "\n",
    "# Example usage:\n",
    "my_array = [3, 1, 7, 4, 5, 9]\n",
    "target_sum = 12\n",
    "result = find_triplet_with_sum(my_array, target_sum)\n",
    "\n",
    "if result:\n",
    "    num1, num2, num3 = result\n",
    "    print(f\"The triplet with sum {target_sum}: {num1}, {num2}, {num3}\")\n",
    "else:\n",
    "    print(f\"No triplet found with sum {target_sum}. Keep searching!\")"
   ]
  },
  {
   "cell_type": "markdown",
   "metadata": {},
   "source": [
    "Problem 7 : Given an array of n elements . Find three elements i, j, k in the array such that\n",
    "i * i + j * j = k*k."
   ]
  },
  {
   "cell_type": "code",
   "execution_count": 18,
   "metadata": {},
   "outputs": [
    {
     "name": "stdout",
     "output_type": "stream",
     "text": [
      "No Pythagorean triplet found. Keep exploring!\n"
     ]
    }
   ],
   "source": [
    "def find_pythagorean_triplet(arr):\n",
    "    arr.sort()  # Sort the array\n",
    "\n",
    "    for mid in range(1, len(arr) - 1):\n",
    "        left, right = 0, len(arr) - 1\n",
    "        while left < right:\n",
    "            current_sum = arr[left]**2 + arr[mid]**2 + arr[right]**2\n",
    "            if current_sum == arr[mid]**2:\n",
    "                return arr[left], arr[mid], arr[right]\n",
    "            elif current_sum < arr[mid]**2:\n",
    "                left += 1\n",
    "            else:\n",
    "                right -= 1\n",
    "\n",
    "    return None  # No such triplet found\n",
    "\n",
    "# Example usage:\n",
    "my_array = [3, 1, 7, 4, 5, 9]\n",
    "result = find_pythagorean_triplet(my_array)\n",
    "\n",
    "if result:\n",
    "    num1, num2, num3 = result\n",
    "    print(f\"The Pythagorean triplet: {num1}, {num2}, {num3}\")\n",
    "else:\n",
    "    print(\"No Pythagorean triplet found. Keep exploring!\")"
   ]
  },
  {
   "cell_type": "markdown",
   "metadata": {},
   "source": [
    "Problem 8 : An element is a majority if it appears more than n/2 times. Give an algorithm takes an array of n\n",
    "element as argument and identifies a majority (if it exists)."
   ]
  },
  {
   "cell_type": "code",
   "execution_count": 19,
   "metadata": {},
   "outputs": [
    {
     "name": "stdout",
     "output_type": "stream",
     "text": [
      "No majority element found. Keep searching!\n"
     ]
    }
   ],
   "source": [
    "def find_majority_element(arr):\n",
    "    candidate = None\n",
    "    count = 0\n",
    "\n",
    "    for num in arr:\n",
    "        if count == 0:\n",
    "            candidate = num\n",
    "        if num == candidate:\n",
    "            count += 1\n",
    "        else:\n",
    "            count -= 1\n",
    "\n",
    "    # Verify if the candidate is a majority element\n",
    "    count_candidate = arr.count(candidate)\n",
    "    if count_candidate > len(arr) // 2:\n",
    "        return candidate\n",
    "    else:\n",
    "        return None  # No majority element found\n",
    "\n",
    "# Example usage:\n",
    "my_array = [3, 1, 7, 4, 5, 9, 7, 7, 7]\n",
    "majority = find_majority_element(my_array)\n",
    "\n",
    "if majority:\n",
    "    print(f\"The majority element is: {majority}\")\n",
    "else:\n",
    "    print(\"No majority element found. Keep searching!\")"
   ]
  },
  {
   "cell_type": "markdown",
   "metadata": {},
   "source": [
    "Problem 9 : Given n × n matrix, and in each row all 1’s are followed by 0’s. Find the row with the maximum\n",
    "number of 0’s."
   ]
  },
  {
   "cell_type": "code",
   "execution_count": 20,
   "metadata": {},
   "outputs": [
    {
     "name": "stdout",
     "output_type": "stream",
     "text": [
      "The row with the most zeroes is Row 3.\n"
     ]
    }
   ],
   "source": [
    "def find_row_with_max_zeroes(matrix):\n",
    "    max_zeroes = 0\n",
    "    chosen_row = -1\n",
    "\n",
    "    for row in range(len(matrix)):\n",
    "        zero_count = matrix[row].count(0)\n",
    "        if zero_count > max_zeroes:\n",
    "            max_zeroes = zero_count\n",
    "            chosen_row = row\n",
    "\n",
    "    return chosen_row\n",
    "\n",
    "# Example usage:\n",
    "my_matrix = [\n",
    "    [1, 1, 1, 0, 0],\n",
    "    [1, 1, 0, 0, 0],\n",
    "    [1, 0, 0, 0, 0],\n",
    "    [1, 1, 1, 1, 0],\n",
    "    [1, 1, 1, 1, 1]\n",
    "]\n",
    "\n",
    "result = find_row_with_max_zeroes(my_matrix)\n",
    "\n",
    "if result != -1:\n",
    "    print(f\"The row with the most zeroes is Row {result + 1}.\")\n",
    "else:\n",
    "    print(\"No rows found. Keep exploring!\")"
   ]
  },
  {
   "cell_type": "markdown",
   "metadata": {},
   "source": [
    "Problem 10 : Sort an array of 0’s, 1’s and 2’s [or R’s, G’s and B’s]: Given an array A[] consisting of 0’s, 1’s and\n",
    "2’s, give an algorithm for sorting A[].The algorithm should put all 0’s first, then all 1’s and finally all 2’s at the\n",
    "end. Example Input = {0,1,1,0,1,2,1,2,0,0,0,1}, Output = {0,0,0,0,0,1,1,1,1,1,2,2}"
   ]
  },
  {
   "cell_type": "code",
   "execution_count": 21,
   "metadata": {},
   "outputs": [
    {
     "name": "stdout",
     "output_type": "stream",
     "text": [
      "Sorted colors: [0, 0, 0, 1, 1, 1, 2, 2, 2]\n"
     ]
    }
   ],
   "source": [
    "def sort_colors(arr):\n",
    "    low, mid, high = 0, 0, len(arr) - 1\n",
    "\n",
    "    while mid <= high:\n",
    "        if arr[mid] == 0:\n",
    "            arr[low], arr[mid] = arr[mid], arr[low]\n",
    "            low += 1\n",
    "            mid += 1\n",
    "        elif arr[mid] == 1:\n",
    "            mid += 1\n",
    "        else:\n",
    "            arr[mid], arr[high] = arr[high], arr[mid]\n",
    "            high -= 1\n",
    "\n",
    "# Example usage:\n",
    "colors = [2, 0, 1, 1, 2, 0, 1, 2, 0]\n",
    "sort_colors(colors)\n",
    "\n",
    "print(f\"Sorted colors: {colors}\")"
   ]
  },
  {
   "cell_type": "code",
   "execution_count": null,
   "metadata": {},
   "outputs": [],
   "source": []
  }
 ],
 "metadata": {
  "kernelspec": {
   "display_name": "ML",
   "language": "python",
   "name": "python3"
  },
  "language_info": {
   "codemirror_mode": {
    "name": "ipython",
    "version": 3
   },
   "file_extension": ".py",
   "mimetype": "text/x-python",
   "name": "python",
   "nbconvert_exporter": "python",
   "pygments_lexer": "ipython3",
   "version": "3.12.4"
  }
 },
 "nbformat": 4,
 "nbformat_minor": 2
}
